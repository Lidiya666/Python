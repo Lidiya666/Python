{
 "cells": [
  {
   "cell_type": "markdown",
   "metadata": {},
   "source": [
    "# Загрузка Pandas и очистка данных"
   ]
  },
  {
   "cell_type": "code",
   "execution_count": 53,
   "metadata": {},
   "outputs": [],
   "source": [
    "import pandas as pd\n",
    "import numpy as np\n",
    "import re\n",
    "from datetime import datetime"
   ]
  },
  {
   "cell_type": "code",
   "execution_count": 54,
   "metadata": {},
   "outputs": [],
   "source": [
    "df = pd.read_csv('main_task.csv')"
   ]
  },
  {
   "cell_type": "code",
   "execution_count": 55,
   "metadata": {},
   "outputs": [],
   "source": [
    "pattern = re.compile('(\\w+[\\s*\\w*|\\s*\\&*]*)')  # паттерн для типов кухонь\n",
    "pattern2 = re.compile('(\\d\\d\\/\\d\\d\\/\\d\\d\\d\\d)')  # паттерн для дат отзывов"
   ]
  },
  {
   "cell_type": "markdown",
   "metadata": {},
   "source": [
    "Ниже код для ответов на вопросы в проекте по кухням"
   ]
  },
  {
   "cell_type": "code",
   "execution_count": 56,
   "metadata": {},
   "outputs": [
    {
     "data": {
      "text/plain": [
       "2.6224"
      ]
     },
     "execution_count": 56,
     "metadata": {},
     "output_type": "execute_result"
    }
   ],
   "source": [
    "cuisines = set()  # создаём пустое множество для хранения уникальных значений ингредиентов\n",
    "cuisines_qty = {}  # создаём пустой словарь для хранения информации об кухнях\n",
    "\n",
    "for cuisine_st in df['Cuisine Style']:  # начинаем перебор всех кухонь в DF\n",
    "    if isinstance(cuisine_st, str):\n",
    "        c = pattern.findall(cuisine_st)\n",
    "        for cuisine in c:  # начинаем перебор всех кухонь в одном ресторане\n",
    "            # добавляем название типа ингредиентов к множеству\n",
    "            cuisines.add(cuisine)\n",
    "            # проверяем есть ли кухня в словаре\n",
    "            if cuisines_qty.get(cuisine) == None:\n",
    "                # добавляем в словарь ключ, соответствующий очередной кухне\n",
    "                cuisines_qty[cuisine] = 1\n",
    "            else:\n",
    "                # добавляем название типа кухни к множеству\n",
    "                cuisines_qty[cuisine] += 1\n",
    "\n",
    "len(cuisines)\n",
    "\n",
    "# сортируем по количеству кухонь\n",
    "for k in sorted(cuisines_qty, key=cuisines_qty.get, reverse=True):\n",
    "    k, cuisines_qty[k]\n",
    "\n",
    "rest_cuis_qty = {}  # создаем пустой словарь для пересчета кухонь в ресторане\n",
    "# начинаем перебор всех кухонь в DF\n",
    "for i, cuisine_st in enumerate(df['Cuisine Style']):\n",
    "    if isinstance(cuisine_st, str):\n",
    "        c = pattern.findall(cuisine_st)\n",
    "        rest_cuis_qty[i] = len(c)  # количество кухонь в конкретном ресторане\n",
    "    else:\n",
    "        rest_cuis_qty[i] = 1  # количество кухонь в ресторане без данных\n",
    "sum(rest_cuis_qty.values())/len(rest_cuis_qty)"
   ]
  },
  {
   "cell_type": "markdown",
   "metadata": {},
   "source": [
    "Код для дат отзывов, для вопросов проекта"
   ]
  },
  {
   "cell_type": "code",
   "execution_count": 57,
   "metadata": {},
   "outputs": [],
   "source": [
    "dates = set()  # сет для хранения дат отзывов\n",
    "differences = set()  # для хранения разностей между несколькими отзывами\n",
    "\n",
    "for reviews in df['Reviews']:\n",
    "    c = pattern2.findall(reviews)\n",
    "    for date_st in c:\n",
    "        datetime_object = datetime.strptime(date_st, '%m/%d/%Y')\n",
    "        dates.add(datetime_object.date())\n",
    "        if len(c) == 2:\n",
    "            difference = datetime.strptime(\n",
    "                c[0], '%m/%d/%Y') - datetime.strptime(c[1], '%m/%d/%Y')\n",
    "            differences.add(abs(difference))\n",
    "\n",
    "sorted(dates)[-1]\n",
    "sorted(differences)[-20:-1]\n",
    "\n",
    "\n",
    "def diff_review(review_str):\n",
    "    c = pattern2.findall(review_str)\n",
    "    for date_st in c:\n",
    "        datetime_object = datetime.strptime(date_st, '%m/%d/%Y')\n",
    "        if len(c) == 2:\n",
    "            if datetime.strptime(c[0], '%m/%d/%Y') > datetime.strptime(c[1], '%m/%d/%Y'):\n",
    "                return (datetime.today() - datetime.strptime(c[0], '%m/%d/%Y')).days\n",
    "            else:\n",
    "                return (datetime.today() - datetime.strptime(c[1], '%m/%d/%Y')).days\n",
    "        elif len(c) == 1:\n",
    "            return (datetime.today() - datetime.strptime(date_st, '%m/%d/%Y')).days\n",
    "        else:\n",
    "            return np.isnan()\n",
    "\n",
    "\n",
    "df['diff_review'] = df['Reviews'].apply(diff_review)"
   ]
  },
  {
   "cell_type": "code",
   "execution_count": 58,
   "metadata": {},
   "outputs": [],
   "source": [
    "def qty_cuisine(cell):\n",
    "    if isinstance(cell, str):\n",
    "        c = pattern.findall(cell)\n",
    "        return len(c)\n",
    "    else:\n",
    "        return 1\n",
    "\n",
    "#df['qty_cuisine'] = df['Cuisine Style'].apply(qty_cuisine)"
   ]
  },
  {
   "cell_type": "code",
   "execution_count": 59,
   "metadata": {},
   "outputs": [],
   "source": [
    "cities = set()\n",
    "\n",
    "for city in df['City']:\n",
    "    cities.add(city)\n",
    "\n",
    "\n",
    "def type_of_check(check_str):\n",
    "    if check_str == '$':\n",
    "        return 'низкий чек'\n",
    "    elif check_str == '$$ - $$$':\n",
    "        return 'средний чек'\n",
    "    elif check_str == '$$$$':\n",
    "        return 'высокий чек'\n",
    "    else:\n",
    "        return 'средний чек'\n",
    "\n",
    "\n",
    "df['type_check'] = df['Price Range'].apply(type_of_check)\n",
    "\n",
    "types_check = {'низкий чек', 'средний чек', 'высокий чек'}"
   ]
  },
  {
   "cell_type": "code",
   "execution_count": 60,
   "metadata": {},
   "outputs": [],
   "source": [
    "df.diff_review.value_counts(ascending=True)\n",
    "\n",
    "\n",
    "def find_item_str(cell):\n",
    "    if isinstance(cell, str):\n",
    "        c = pattern.findall(cell)\n",
    "        if item in c:\n",
    "            return 1\n",
    "        return 0\n",
    "    else:\n",
    "        return 0\n",
    "\n",
    "\n",
    "def find_item(cell):\n",
    "    if item in cell:\n",
    "        return 1\n",
    "    return 0\n",
    "\n",
    "\n",
    "# for item in cuisines:\n",
    "#    df[item] = df['Cuisine Style'].apply(find_item_str)\n",
    "\n",
    "# for item in cities:\n",
    "#    df[item] = df['City'].apply(find_item)\n",
    "\n",
    "# for item in types_check:\n",
    "#    df[item] = df['type_check'].apply(find_item)"
   ]
  },
  {
   "cell_type": "code",
   "execution_count": null,
   "metadata": {},
   "outputs": [],
   "source": []
  },
  {
   "cell_type": "code",
   "execution_count": 61,
   "metadata": {},
   "outputs": [],
   "source": [
    "# Ваш код по очистке данных и генерации новых признаков\n",
    "# При необходимости добавьте ячейки"
   ]
  },
  {
   "cell_type": "code",
   "execution_count": 62,
   "metadata": {},
   "outputs": [],
   "source": [
    "min_diff = df.diff_review.min()"
   ]
  },
  {
   "cell_type": "code",
   "execution_count": 63,
   "metadata": {},
   "outputs": [
    {
     "data": {
      "text/html": [
       "<div>\n",
       "<style scoped>\n",
       "    .dataframe tbody tr th:only-of-type {\n",
       "        vertical-align: middle;\n",
       "    }\n",
       "\n",
       "    .dataframe tbody tr th {\n",
       "        vertical-align: top;\n",
       "    }\n",
       "\n",
       "    .dataframe thead th {\n",
       "        text-align: right;\n",
       "    }\n",
       "</style>\n",
       "<table border=\"1\" class=\"dataframe\">\n",
       "  <thead>\n",
       "    <tr style=\"text-align: right;\">\n",
       "      <th></th>\n",
       "      <th>Restaurant_id</th>\n",
       "      <th>Ranking</th>\n",
       "      <th>Rating</th>\n",
       "      <th>Number of Reviews</th>\n",
       "      <th>type_rew</th>\n",
       "    </tr>\n",
       "  </thead>\n",
       "  <tbody>\n",
       "    <tr>\n",
       "      <th>0</th>\n",
       "      <td>id_5569</td>\n",
       "      <td>5570.0</td>\n",
       "      <td>3.5</td>\n",
       "      <td>194.0</td>\n",
       "      <td>1</td>\n",
       "    </tr>\n",
       "    <tr>\n",
       "      <th>1</th>\n",
       "      <td>id_1535</td>\n",
       "      <td>1537.0</td>\n",
       "      <td>4.0</td>\n",
       "      <td>10.0</td>\n",
       "      <td>1</td>\n",
       "    </tr>\n",
       "    <tr>\n",
       "      <th>2</th>\n",
       "      <td>id_352</td>\n",
       "      <td>353.0</td>\n",
       "      <td>4.5</td>\n",
       "      <td>688.0</td>\n",
       "      <td>1</td>\n",
       "    </tr>\n",
       "    <tr>\n",
       "      <th>3</th>\n",
       "      <td>id_3456</td>\n",
       "      <td>3458.0</td>\n",
       "      <td>5.0</td>\n",
       "      <td>3.0</td>\n",
       "      <td>1</td>\n",
       "    </tr>\n",
       "    <tr>\n",
       "      <th>4</th>\n",
       "      <td>id_615</td>\n",
       "      <td>621.0</td>\n",
       "      <td>4.0</td>\n",
       "      <td>84.0</td>\n",
       "      <td>1</td>\n",
       "    </tr>\n",
       "    <tr>\n",
       "      <th>...</th>\n",
       "      <td>...</td>\n",
       "      <td>...</td>\n",
       "      <td>...</td>\n",
       "      <td>...</td>\n",
       "      <td>...</td>\n",
       "    </tr>\n",
       "    <tr>\n",
       "      <th>39995</th>\n",
       "      <td>id_499</td>\n",
       "      <td>500.0</td>\n",
       "      <td>4.5</td>\n",
       "      <td>79.0</td>\n",
       "      <td>1</td>\n",
       "    </tr>\n",
       "    <tr>\n",
       "      <th>39996</th>\n",
       "      <td>id_6340</td>\n",
       "      <td>6341.0</td>\n",
       "      <td>3.5</td>\n",
       "      <td>542.0</td>\n",
       "      <td>1</td>\n",
       "    </tr>\n",
       "    <tr>\n",
       "      <th>39997</th>\n",
       "      <td>id_1649</td>\n",
       "      <td>1652.0</td>\n",
       "      <td>4.5</td>\n",
       "      <td>4.0</td>\n",
       "      <td>2</td>\n",
       "    </tr>\n",
       "    <tr>\n",
       "      <th>39998</th>\n",
       "      <td>id_640</td>\n",
       "      <td>641.0</td>\n",
       "      <td>4.0</td>\n",
       "      <td>70.0</td>\n",
       "      <td>1</td>\n",
       "    </tr>\n",
       "    <tr>\n",
       "      <th>39999</th>\n",
       "      <td>id_4824</td>\n",
       "      <td>4827.0</td>\n",
       "      <td>3.0</td>\n",
       "      <td>260.0</td>\n",
       "      <td>2</td>\n",
       "    </tr>\n",
       "  </tbody>\n",
       "</table>\n",
       "<p>40000 rows × 5 columns</p>\n",
       "</div>"
      ],
      "text/plain": [
       "      Restaurant_id  Ranking  Rating  Number of Reviews  type_rew\n",
       "0           id_5569   5570.0     3.5              194.0         1\n",
       "1           id_1535   1537.0     4.0               10.0         1\n",
       "2            id_352    353.0     4.5              688.0         1\n",
       "3           id_3456   3458.0     5.0                3.0         1\n",
       "4            id_615    621.0     4.0               84.0         1\n",
       "...             ...      ...     ...                ...       ...\n",
       "39995        id_499    500.0     4.5               79.0         1\n",
       "39996       id_6340   6341.0     3.5              542.0         1\n",
       "39997       id_1649   1652.0     4.5                4.0         2\n",
       "39998        id_640    641.0     4.0               70.0         1\n",
       "39999       id_4824   4827.0     3.0              260.0         2\n",
       "\n",
       "[40000 rows x 5 columns]"
      ]
     },
     "execution_count": 63,
     "metadata": {},
     "output_type": "execute_result"
    }
   ],
   "source": [
    "df = df.drop(df.columns[[1, 2, 5, 7, 8, 9, 11]], axis=1)\n",
    "df['Number of Reviews'] = df['Number of Reviews'].fillna(\n",
    "    df['Number of Reviews'].median())\n",
    "df['diff_review'] = df['diff_review'].fillna(df['diff_review'].mean())\n",
    "\n",
    "\n",
    "def type_of_rew(cell):\n",
    "    if cell < min_diff+365: #отзывы от последнего + год\n",
    "        return 1\n",
    "    elif cell < min_diff+365*3: # + еще 2 года\n",
    "        return 2\n",
    "    else:\n",
    "        return 3 # максимально старые отзывы\n",
    "\n",
    "\n",
    "df['type_rew'] = df['diff_review'].apply(type_of_rew)\n",
    "df = df.drop(df.columns[[4]], axis=1)\n",
    "df"
   ]
  },
  {
   "cell_type": "markdown",
   "metadata": {},
   "source": [
    "# Разбиваем датафрейм на части, необходимые для обучения и тестирования модели"
   ]
  },
  {
   "cell_type": "code",
   "execution_count": 64,
   "metadata": {},
   "outputs": [],
   "source": [
    "# Х - данные с информацией о ресторанах, у - целевая переменная (рейтинги ресторанов)\n",
    "X = df.drop(['Restaurant_id', 'Rating'], axis=1)\n",
    "y = df['Rating']"
   ]
  },
  {
   "cell_type": "code",
   "execution_count": 65,
   "metadata": {},
   "outputs": [],
   "source": [
    "# Загружаем специальный инструмент для разбивки:\n",
    "from sklearn.model_selection import train_test_split"
   ]
  },
  {
   "cell_type": "code",
   "execution_count": 66,
   "metadata": {},
   "outputs": [],
   "source": [
    "# Наборы данных с меткой \"train\" будут использоваться для обучения модели, \"test\" - для тестирования.\n",
    "# Для тестирования мы будем использовать 25% от исходного датасета.\n",
    "X_train, X_test, y_train, y_test = train_test_split(X, y, test_size=0.25)"
   ]
  },
  {
   "cell_type": "markdown",
   "metadata": {},
   "source": [
    "# Создаём, обучаем и тестируем модель"
   ]
  },
  {
   "cell_type": "code",
   "execution_count": 67,
   "metadata": {},
   "outputs": [],
   "source": [
    "# Импортируем необходимые библиотеки:\n",
    "# инструмент для создания и обучения модели\n",
    "from sklearn.ensemble import RandomForestRegressor\n",
    "from sklearn import metrics  # инструменты для оценки точности модели"
   ]
  },
  {
   "cell_type": "code",
   "execution_count": 68,
   "metadata": {},
   "outputs": [],
   "source": [
    "# Создаём модель\n",
    "regr = RandomForestRegressor(n_estimators=100)\n",
    "\n",
    "# Обучаем модель на тестовом наборе данных\n",
    "regr.fit(X_train, y_train)\n",
    "\n",
    "# Используем обученную модель для предсказания рейтинга ресторанов в тестовой выборке.\n",
    "# Предсказанные значения записываем в переменную y_pred\n",
    "y_pred = regr.predict(X_test)"
   ]
  },
  {
   "cell_type": "code",
   "execution_count": 69,
   "metadata": {},
   "outputs": [
    {
     "name": "stdout",
     "output_type": "stream",
     "text": [
      "MAE: 0.4205319279761905\n"
     ]
    }
   ],
   "source": [
    "# Сравниваем предсказанные значения (y_pred) с реальными (y_test), и смотрим насколько они в среднем отличаются\n",
    "# Метрика называется Mean Absolute Error (MAE) и показывает среднее отклонение предсказанных значений от фактических.\n",
    "print('MAE:', metrics.mean_absolute_error(y_test, y_pred))"
   ]
  },
  {
   "cell_type": "code",
   "execution_count": null,
   "metadata": {},
   "outputs": [],
   "source": []
  },
  {
   "cell_type": "code",
   "execution_count": null,
   "metadata": {},
   "outputs": [],
   "source": []
  }
 ],
 "metadata": {
  "kernelspec": {
   "display_name": "Python 3",
   "language": "python",
   "name": "python3"
  },
  "language_info": {
   "codemirror_mode": {
    "name": "ipython",
    "version": 3
   },
   "file_extension": ".py",
   "mimetype": "text/x-python",
   "name": "python",
   "nbconvert_exporter": "python",
   "pygments_lexer": "ipython3",
   "version": "3.8.3"
  }
 },
 "nbformat": 4,
 "nbformat_minor": 2
}
